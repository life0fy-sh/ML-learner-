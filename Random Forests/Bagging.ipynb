{
 "cells": [
  {
   "cell_type": "code",
   "execution_count": null,
   "id": "45bd8fc7",
   "metadata": {},
   "outputs": [
    {
     "name": "stdout",
     "output_type": "stream",
     "text": [
      "Random Forest says: Buy\n"
     ]
    }
   ],
   "source": [
    "from sklearn.ensemble import RandomForestClassifier\n",
    "import numpy as np\n",
    "\n",
    "# Same data\n",
    "X = np.array([[25, 30000], [30, 50000], [20, 20000], [35, 60000], [28, 45000]])\n",
    "y = np.array([0, 1, 0, 1, 1])\n",
    "\n",
    "# Train a Random Forest with 3 trees\n",
    "rf = RandomForestClassifier(n_estimators=3, random_state=42)\n",
    "rf.fit(X, y)\n",
    "\n",
    "# Predict for our new person\n",
    "new_person = np.array([[50, 20000]])\n",
    "guess = rf.predict(new_person)\n",
    "print(\"Random Forest says:\", \"Buy\" if guess[0] == 1 else \"No buy\")"
   ]
  },
  {
   "cell_type": "code",
   "execution_count": null,
   "id": "b802e8f8",
   "metadata": {},
   "outputs": [],
   "source": [
    "# https://cwpc.in/knn-k-nearest-neighbors-algorithm-a-beginner-friendly-537c6b6083d8?sk=4862874d237bfae47461b05e3d74300b"
   ]
  }
 ],
 "metadata": {
  "kernelspec": {
   "display_name": "Python 3",
   "language": "python",
   "name": "python3"
  },
  "language_info": {
   "codemirror_mode": {
    "name": "ipython",
    "version": 3
   },
   "file_extension": ".py",
   "mimetype": "text/x-python",
   "name": "python",
   "nbconvert_exporter": "python",
   "pygments_lexer": "ipython3",
   "version": "3.13.2"
  }
 },
 "nbformat": 4,
 "nbformat_minor": 5
}
